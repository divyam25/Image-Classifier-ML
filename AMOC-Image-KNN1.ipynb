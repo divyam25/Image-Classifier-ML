{
 "cells": [
  {
   "cell_type": "code",
   "execution_count": 19,
   "metadata": {},
   "outputs": [],
   "source": [
    "from sklearn.linear_model import LogisticRegression as LR\n",
    "from sklearn.model_selection import GridSearchCV as gsc\n",
    "from sklearn.cross_validation import train_test_split\n",
    "from sklearn.model_selection import cross_val_score\n",
    "from sklearn.neighbors import KNeighborsClassifier as KNN\n",
    "from sklearn.decomposition import PCA\n",
    "import pickle\n",
    "from skimage import io\n",
    "import numpy as np\n",
    "import pandas as pd\n",
    "import os"
   ]
  },
  {
   "cell_type": "code",
   "execution_count": null,
   "metadata": {},
   "outputs": [],
   "source": [
    "path_data = 'E:\\\\CIFAR-10\\\\train'    #importing images CIFAR-10\n",
    "X = np.zeros((50000,3072))\n",
    "for i in range(1,50001) :\n",
    "    X[i-1]=pd.DataFrame(io.imread(os.path.join(path_data,str(i) + '.png')).flatten()).as_matrix().T\n",
    "    print (i)"
   ]
  },
  {
   "cell_type": "code",
   "execution_count": 4,
   "metadata": {
    "collapsed": true
   },
   "outputs": [],
   "source": [
    "pickle.dump(X,open(\"X.p\",\"wb\"))"
   ]
  },
  {
   "cell_type": "code",
   "execution_count": 2,
   "metadata": {
    "collapsed": true
   },
   "outputs": [],
   "source": [
    "X=pickle.load(open(\"X.p\",\"rb\"))"
   ]
  },
  {
   "cell_type": "code",
   "execution_count": 3,
   "metadata": {},
   "outputs": [
    {
     "data": {
      "text/plain": [
       "(50000, 3072)"
      ]
     },
     "execution_count": 3,
     "metadata": {},
     "output_type": "execute_result"
    }
   ],
   "source": [
    "X.shape"
   ]
  },
  {
   "cell_type": "code",
   "execution_count": 3,
   "metadata": {},
   "outputs": [
    {
     "data": {
      "text/plain": [
       "(50000,)"
      ]
     },
     "execution_count": 3,
     "metadata": {},
     "output_type": "execute_result"
    }
   ],
   "source": [
    "y = pd.DataFrame.from_csv(\"E:\\\\CIFAR-10\\\\trainLabels.csv\")     #importing image labels CIFAR-10\n",
    "y = y.label.as_matrix()\n",
    "y.shape"
   ]
  },
  {
   "cell_type": "code",
   "execution_count": 4,
   "metadata": {
    "collapsed": true
   },
   "outputs": [],
   "source": [
    "X_train, X_test, y_train, y_test = train_test_split(X, y, test_size = 0.2, random_state = 92)   \n",
    "#Creating train and test flaps from imported data"
   ]
  },
  {
   "cell_type": "code",
   "execution_count": 6,
   "metadata": {},
   "outputs": [
    {
     "data": {
      "text/plain": [
       "'bird'"
      ]
     },
     "execution_count": 6,
     "metadata": {},
     "output_type": "execute_result"
    }
   ],
   "source": [
    "y_train[23972]"
   ]
  },
  {
   "cell_type": "code",
   "execution_count": 7,
   "metadata": {
    "collapsed": true
   },
   "outputs": [],
   "source": [
    "#creating KNN algorithm from scratch\n",
    "test = np.zeros((200,40000))\n"
   ]
  },
  {
   "cell_type": "code",
   "execution_count": 8,
   "metadata": {
    "scrolled": true
   },
   "outputs": [
    {
     "name": "stdout",
     "output_type": "stream",
     "text": [
      "0\n",
      "1\n",
      "2\n",
      "3\n",
      "4\n",
      "5\n",
      "6\n",
      "7\n",
      "8\n",
      "9\n",
      "10\n",
      "11\n",
      "12\n",
      "13\n",
      "14\n",
      "15\n",
      "16\n",
      "17\n",
      "18\n",
      "19\n",
      "20\n",
      "21\n",
      "22\n",
      "23\n",
      "24\n",
      "25\n",
      "26\n",
      "27\n",
      "28\n",
      "29\n",
      "30\n",
      "31\n",
      "32\n",
      "33\n",
      "34\n",
      "35\n",
      "36\n",
      "37\n",
      "38\n",
      "39\n",
      "40\n",
      "41\n",
      "42\n",
      "43\n",
      "44\n",
      "45\n",
      "46\n",
      "47\n",
      "48\n",
      "49\n",
      "50\n",
      "51\n",
      "52\n",
      "53\n",
      "54\n",
      "55\n",
      "56\n",
      "57\n",
      "58\n",
      "59\n",
      "60\n",
      "61\n",
      "62\n",
      "63\n",
      "64\n",
      "65\n",
      "66\n",
      "67\n",
      "68\n",
      "69\n",
      "70\n",
      "71\n",
      "72\n",
      "73\n",
      "74\n",
      "75\n",
      "76\n",
      "77\n",
      "78\n",
      "79\n",
      "80\n",
      "81\n",
      "82\n",
      "83\n",
      "84\n",
      "85\n",
      "86\n",
      "87\n",
      "88\n",
      "89\n",
      "90\n",
      "91\n",
      "92\n",
      "93\n",
      "94\n",
      "95\n",
      "96\n",
      "97\n",
      "98\n",
      "99\n",
      "100\n",
      "101\n",
      "102\n",
      "103\n",
      "104\n",
      "105\n",
      "106\n",
      "107\n",
      "108\n",
      "109\n",
      "110\n",
      "111\n",
      "112\n",
      "113\n",
      "114\n",
      "115\n",
      "116\n",
      "117\n",
      "118\n",
      "119\n",
      "120\n",
      "121\n",
      "122\n",
      "123\n",
      "124\n",
      "125\n",
      "126\n",
      "127\n",
      "128\n",
      "129\n",
      "130\n",
      "131\n",
      "132\n",
      "133\n",
      "134\n",
      "135\n",
      "136\n",
      "137\n",
      "138\n",
      "139\n",
      "140\n",
      "141\n",
      "142\n",
      "143\n",
      "144\n",
      "145\n",
      "146\n",
      "147\n",
      "148\n",
      "149\n",
      "150\n",
      "151\n",
      "152\n",
      "153\n",
      "154\n",
      "155\n",
      "156\n",
      "157\n",
      "158\n",
      "159\n",
      "160\n",
      "161\n",
      "162\n",
      "163\n",
      "164\n",
      "165\n",
      "166\n",
      "167\n",
      "168\n",
      "169\n",
      "170\n",
      "171\n",
      "172\n",
      "173\n",
      "174\n",
      "175\n",
      "176\n",
      "177\n",
      "178\n",
      "179\n",
      "180\n",
      "181\n",
      "182\n",
      "183\n",
      "184\n",
      "185\n",
      "186\n",
      "187\n",
      "188\n",
      "189\n",
      "190\n",
      "191\n",
      "192\n",
      "193\n",
      "194\n",
      "195\n",
      "196\n",
      "197\n",
      "198\n",
      "199\n"
     ]
    }
   ],
   "source": [
    "for i in range(200) :\n",
    "    for j in range(0,40000) :\n",
    "        test[i][j]=np.sum((np.abs(X_test[i]-X_train[j])))\n",
    "    print (i)\n",
    "            \n",
    "    "
   ]
  },
  {
   "cell_type": "code",
   "execution_count": null,
   "metadata": {},
   "outputs": [],
   "source": [
    "y_pred = np.empty((200,1),dtype=object)\n",
    "for i in range(200) :\n",
    "    y_pred[i] = y_train[np.argmin(test[i])]\n",
    "    print (i)\n",
    "    "
   ]
  },
  {
   "cell_type": "code",
   "execution_count": 10,
   "metadata": {},
   "outputs": [
    {
     "data": {
      "text/plain": [
       "array([['bird'],\n",
       "       ['bird'],\n",
       "       ['bird'],\n",
       "       ['frog'],\n",
       "       ['truck'],\n",
       "       ['dog'],\n",
       "       ['airplane'],\n",
       "       ['airplane'],\n",
       "       ['deer'],\n",
       "       ['ship'],\n",
       "       ['bird'],\n",
       "       ['ship'],\n",
       "       ['deer'],\n",
       "       ['deer'],\n",
       "       ['horse'],\n",
       "       ['ship'],\n",
       "       ['frog'],\n",
       "       ['airplane'],\n",
       "       ['airplane'],\n",
       "       ['ship'],\n",
       "       ['bird'],\n",
       "       ['deer'],\n",
       "       ['dog'],\n",
       "       ['bird'],\n",
       "       ['truck'],\n",
       "       ['airplane'],\n",
       "       ['deer'],\n",
       "       ['airplane'],\n",
       "       ['dog'],\n",
       "       ['deer'],\n",
       "       ['ship'],\n",
       "       ['ship'],\n",
       "       ['deer'],\n",
       "       ['cat'],\n",
       "       ['dog'],\n",
       "       ['ship'],\n",
       "       ['deer'],\n",
       "       ['airplane'],\n",
       "       ['horse'],\n",
       "       ['bird'],\n",
       "       ['ship'],\n",
       "       ['ship'],\n",
       "       ['deer'],\n",
       "       ['ship'],\n",
       "       ['ship'],\n",
       "       ['deer'],\n",
       "       ['ship'],\n",
       "       ['dog'],\n",
       "       ['truck'],\n",
       "       ['bird'],\n",
       "       ['horse'],\n",
       "       ['ship'],\n",
       "       ['bird'],\n",
       "       ['automobile'],\n",
       "       ['deer'],\n",
       "       ['deer'],\n",
       "       ['ship'],\n",
       "       ['bird'],\n",
       "       ['dog'],\n",
       "       ['dog'],\n",
       "       ['frog'],\n",
       "       ['bird'],\n",
       "       ['ship'],\n",
       "       ['ship'],\n",
       "       ['deer'],\n",
       "       ['frog'],\n",
       "       ['horse'],\n",
       "       ['deer'],\n",
       "       ['ship'],\n",
       "       ['bird'],\n",
       "       ['deer'],\n",
       "       ['ship'],\n",
       "       ['bird'],\n",
       "       ['bird'],\n",
       "       ['ship'],\n",
       "       ['airplane'],\n",
       "       ['bird'],\n",
       "       ['cat'],\n",
       "       ['bird'],\n",
       "       ['frog'],\n",
       "       ['deer'],\n",
       "       ['bird'],\n",
       "       ['deer'],\n",
       "       ['deer'],\n",
       "       ['dog'],\n",
       "       ['cat'],\n",
       "       ['airplane'],\n",
       "       ['truck'],\n",
       "       ['dog'],\n",
       "       ['ship'],\n",
       "       ['bird'],\n",
       "       ['frog'],\n",
       "       ['ship'],\n",
       "       ['deer'],\n",
       "       ['ship'],\n",
       "       ['bird'],\n",
       "       ['horse'],\n",
       "       ['dog'],\n",
       "       ['deer'],\n",
       "       ['deer'],\n",
       "       ['truck'],\n",
       "       ['deer'],\n",
       "       ['deer'],\n",
       "       ['bird'],\n",
       "       ['horse'],\n",
       "       ['bird'],\n",
       "       ['dog'],\n",
       "       ['automobile'],\n",
       "       ['frog'],\n",
       "       ['airplane'],\n",
       "       ['deer'],\n",
       "       ['airplane'],\n",
       "       ['cat'],\n",
       "       ['airplane'],\n",
       "       ['deer'],\n",
       "       ['bird'],\n",
       "       ['bird'],\n",
       "       ['horse'],\n",
       "       ['bird'],\n",
       "       ['frog'],\n",
       "       ['deer'],\n",
       "       ['deer'],\n",
       "       ['airplane'],\n",
       "       ['ship'],\n",
       "       ['deer'],\n",
       "       ['frog'],\n",
       "       ['ship'],\n",
       "       ['deer'],\n",
       "       ['ship'],\n",
       "       ['airplane'],\n",
       "       ['ship'],\n",
       "       ['bird'],\n",
       "       ['bird'],\n",
       "       ['cat'],\n",
       "       ['frog'],\n",
       "       ['deer'],\n",
       "       ['ship'],\n",
       "       ['horse'],\n",
       "       ['frog'],\n",
       "       ['automobile'],\n",
       "       ['deer'],\n",
       "       ['bird'],\n",
       "       ['bird'],\n",
       "       ['deer'],\n",
       "       ['bird'],\n",
       "       ['ship'],\n",
       "       ['bird'],\n",
       "       ['ship'],\n",
       "       ['horse'],\n",
       "       ['airplane'],\n",
       "       ['deer'],\n",
       "       ['frog'],\n",
       "       ['truck'],\n",
       "       ['bird'],\n",
       "       ['frog'],\n",
       "       ['cat'],\n",
       "       ['frog'],\n",
       "       ['deer'],\n",
       "       ['cat'],\n",
       "       ['frog'],\n",
       "       ['deer'],\n",
       "       ['deer'],\n",
       "       ['frog'],\n",
       "       ['frog'],\n",
       "       ['deer'],\n",
       "       ['airplane'],\n",
       "       ['bird'],\n",
       "       ['ship'],\n",
       "       ['deer'],\n",
       "       ['bird'],\n",
       "       ['horse'],\n",
       "       ['truck'],\n",
       "       ['deer'],\n",
       "       ['bird'],\n",
       "       ['deer'],\n",
       "       ['airplane'],\n",
       "       ['frog'],\n",
       "       ['ship'],\n",
       "       ['deer'],\n",
       "       ['cat'],\n",
       "       ['airplane'],\n",
       "       ['deer'],\n",
       "       ['deer'],\n",
       "       ['ship'],\n",
       "       ['bird'],\n",
       "       ['dog'],\n",
       "       ['bird'],\n",
       "       ['ship'],\n",
       "       ['cat'],\n",
       "       ['airplane'],\n",
       "       ['ship'],\n",
       "       ['airplane'],\n",
       "       ['deer'],\n",
       "       ['airplane'],\n",
       "       ['ship'],\n",
       "       ['horse'],\n",
       "       ['frog'],\n",
       "       ['horse'],\n",
       "       ['frog'],\n",
       "       ['deer']], dtype=object)"
      ]
     },
     "execution_count": 10,
     "metadata": {},
     "output_type": "execute_result"
    }
   ],
   "source": [
    "r = y_pred\n",
    "r"
   ]
  },
  {
   "cell_type": "code",
   "execution_count": 11,
   "metadata": {},
   "outputs": [
    {
     "data": {
      "text/plain": [
       "array([['bird'],\n",
       "       ['cat'],\n",
       "       ['bird'],\n",
       "       ['bird'],\n",
       "       ['airplane'],\n",
       "       ['dog'],\n",
       "       ['airplane'],\n",
       "       ['airplane'],\n",
       "       ['horse'],\n",
       "       ['ship'],\n",
       "       ['frog'],\n",
       "       ['ship'],\n",
       "       ['deer'],\n",
       "       ['frog'],\n",
       "       ['horse'],\n",
       "       ['ship'],\n",
       "       ['frog'],\n",
       "       ['airplane'],\n",
       "       ['ship'],\n",
       "       ['frog'],\n",
       "       ['ship'],\n",
       "       ['deer'],\n",
       "       ['dog'],\n",
       "       ['bird'],\n",
       "       ['truck'],\n",
       "       ['truck'],\n",
       "       ['dog'],\n",
       "       ['ship'],\n",
       "       ['cat'],\n",
       "       ['cat'],\n",
       "       ['horse'],\n",
       "       ['airplane'],\n",
       "       ['dog'],\n",
       "       ['cat'],\n",
       "       ['cat'],\n",
       "       ['ship'],\n",
       "       ['airplane'],\n",
       "       ['airplane'],\n",
       "       ['ship'],\n",
       "       ['bird'],\n",
       "       ['ship'],\n",
       "       ['airplane'],\n",
       "       ['automobile'],\n",
       "       ['ship'],\n",
       "       ['bird'],\n",
       "       ['deer'],\n",
       "       ['ship'],\n",
       "       ['deer'],\n",
       "       ['truck'],\n",
       "       ['bird'],\n",
       "       ['horse'],\n",
       "       ['ship'],\n",
       "       ['frog'],\n",
       "       ['automobile'],\n",
       "       ['deer'],\n",
       "       ['truck'],\n",
       "       ['automobile'],\n",
       "       ['bird'],\n",
       "       ['horse'],\n",
       "       ['cat'],\n",
       "       ['automobile'],\n",
       "       ['bird'],\n",
       "       ['ship'],\n",
       "       ['ship'],\n",
       "       ['frog'],\n",
       "       ['horse'],\n",
       "       ['automobile'],\n",
       "       ['bird'],\n",
       "       ['ship'],\n",
       "       ['horse'],\n",
       "       ['deer'],\n",
       "       ['airplane'],\n",
       "       ['deer'],\n",
       "       ['dog'],\n",
       "       ['bird'],\n",
       "       ['airplane'],\n",
       "       ['bird'],\n",
       "       ['cat'],\n",
       "       ['horse'],\n",
       "       ['frog'],\n",
       "       ['horse'],\n",
       "       ['dog'],\n",
       "       ['horse'],\n",
       "       ['bird'],\n",
       "       ['dog'],\n",
       "       ['truck'],\n",
       "       ['ship'],\n",
       "       ['truck'],\n",
       "       ['deer'],\n",
       "       ['deer'],\n",
       "       ['cat'],\n",
       "       ['dog'],\n",
       "       ['automobile'],\n",
       "       ['bird'],\n",
       "       ['automobile'],\n",
       "       ['dog'],\n",
       "       ['horse'],\n",
       "       ['dog'],\n",
       "       ['bird'],\n",
       "       ['horse'],\n",
       "       ['truck'],\n",
       "       ['deer'],\n",
       "       ['deer'],\n",
       "       ['cat'],\n",
       "       ['truck'],\n",
       "       ['ship'],\n",
       "       ['cat'],\n",
       "       ['automobile'],\n",
       "       ['deer'],\n",
       "       ['horse'],\n",
       "       ['frog'],\n",
       "       ['airplane'],\n",
       "       ['frog'],\n",
       "       ['airplane'],\n",
       "       ['dog'],\n",
       "       ['bird'],\n",
       "       ['bird'],\n",
       "       ['horse'],\n",
       "       ['cat'],\n",
       "       ['bird'],\n",
       "       ['dog'],\n",
       "       ['frog'],\n",
       "       ['airplane'],\n",
       "       ['truck'],\n",
       "       ['frog'],\n",
       "       ['frog'],\n",
       "       ['automobile'],\n",
       "       ['frog'],\n",
       "       ['ship'],\n",
       "       ['cat'],\n",
       "       ['ship'],\n",
       "       ['deer'],\n",
       "       ['automobile'],\n",
       "       ['bird'],\n",
       "       ['bird'],\n",
       "       ['truck'],\n",
       "       ['ship'],\n",
       "       ['horse'],\n",
       "       ['automobile'],\n",
       "       ['truck'],\n",
       "       ['cat'],\n",
       "       ['dog'],\n",
       "       ['deer'],\n",
       "       ['truck'],\n",
       "       ['deer'],\n",
       "       ['ship'],\n",
       "       ['deer'],\n",
       "       ['truck'],\n",
       "       ['horse'],\n",
       "       ['airplane'],\n",
       "       ['automobile'],\n",
       "       ['frog'],\n",
       "       ['truck'],\n",
       "       ['airplane'],\n",
       "       ['dog'],\n",
       "       ['frog'],\n",
       "       ['frog'],\n",
       "       ['deer'],\n",
       "       ['cat'],\n",
       "       ['dog'],\n",
       "       ['automobile'],\n",
       "       ['deer'],\n",
       "       ['airplane'],\n",
       "       ['horse'],\n",
       "       ['dog'],\n",
       "       ['airplane'],\n",
       "       ['dog'],\n",
       "       ['airplane'],\n",
       "       ['truck'],\n",
       "       ['frog'],\n",
       "       ['horse'],\n",
       "       ['truck'],\n",
       "       ['frog'],\n",
       "       ['truck'],\n",
       "       ['cat'],\n",
       "       ['ship'],\n",
       "       ['frog'],\n",
       "       ['airplane'],\n",
       "       ['frog'],\n",
       "       ['cat'],\n",
       "       ['airplane'],\n",
       "       ['cat'],\n",
       "       ['deer'],\n",
       "       ['truck'],\n",
       "       ['deer'],\n",
       "       ['dog'],\n",
       "       ['bird'],\n",
       "       ['airplane'],\n",
       "       ['truck'],\n",
       "       ['airplane'],\n",
       "       ['horse'],\n",
       "       ['frog'],\n",
       "       ['horse'],\n",
       "       ['airplane'],\n",
       "       ['ship'],\n",
       "       ['automobile'],\n",
       "       ['frog'],\n",
       "       ['horse'],\n",
       "       ['frog'],\n",
       "       ['truck']], dtype=object)"
      ]
     },
     "execution_count": 11,
     "metadata": {},
     "output_type": "execute_result"
    }
   ],
   "source": [
    "d= pd.DataFrame(y_test[:200]).as_matrix()\n",
    "d"
   ]
  },
  {
   "cell_type": "code",
   "execution_count": 12,
   "metadata": {},
   "outputs": [
    {
     "name": "stdout",
     "output_type": "stream",
     "text": [
      "41.5 % accuracy\n"
     ]
    }
   ],
   "source": [
    "counter = 0\n",
    "for i in range(200) :\n",
    "    if(r[i] == d[i]) :\n",
    "        counter = counter + 1\n",
    "print (((counter/200) *100),\"%\",\"accuracy\")"
   ]
  },
  {
   "cell_type": "raw",
   "metadata": {},
   "source": [
    "# The KNN algorithm developed from scratch gives an accuracy score of 41.5% over a small testing data size (200).... we didnt check for entire testing dataset as is it would take a minimum of 3 hours on the system we are working on. \n",
    "\n",
    "Applying KNN from scikit for a probable more efficient prediction and lesser running time."
   ]
  },
  {
   "cell_type": "code",
   "execution_count": 16,
   "metadata": {},
   "outputs": [
    {
     "data": {
      "text/plain": [
       "KNeighborsClassifier(algorithm='auto', leaf_size=30, metric='minkowski',\n",
       "           metric_params=None, n_jobs=1, n_neighbors=10, p=2,\n",
       "           weights='uniform')"
      ]
     },
     "execution_count": 16,
     "metadata": {},
     "output_type": "execute_result"
    }
   ],
   "source": [
    "#cut the crap\n",
    "model_KNN = KNN(n_neighbors = 10)\n",
    "model_KNN.fit(X_train,y_train)"
   ]
  },
  {
   "cell_type": "code",
   "execution_count": 18,
   "metadata": {},
   "outputs": [
    {
     "data": {
      "text/plain": [
       "0.32550000000000001"
      ]
     },
     "execution_count": 18,
     "metadata": {},
     "output_type": "execute_result"
    }
   ],
   "source": [
    "model_KNN.score(X_test[:4000],y_test[:4000])"
   ]
  },
  {
   "cell_type": "raw",
   "metadata": {
    "collapsed": true
   },
   "source": [
    "With increasing testing dataset , prediction accuracy worsened (still better than logistic at the very least :P)\n",
    "Good thing is running time was 30 minutes for a testing data this long.\n",
    "Dimensionality reduction tweak coming up next.............zzzzzzzz "
   ]
  },
  {
   "cell_type": "code",
   "execution_count": 48,
   "metadata": {
    "collapsed": true
   },
   "outputs": [],
   "source": [
    "X_train_new = PCA(n_components = 10).fit_transform(X_train)"
   ]
  },
  {
   "cell_type": "code",
   "execution_count": 52,
   "metadata": {},
   "outputs": [],
   "source": [
    "X_test_new = PCA(n_components = 10).fit_transform(X_test)"
   ]
  },
  {
   "cell_type": "code",
   "execution_count": 85,
   "metadata": {},
   "outputs": [
    {
     "data": {
      "text/plain": [
       "KNeighborsClassifier(algorithm='auto', leaf_size=30, metric='minkowski',\n",
       "           metric_params=None, n_jobs=1, n_neighbors=150, p=2,\n",
       "           weights='uniform')"
      ]
     },
     "execution_count": 85,
     "metadata": {},
     "output_type": "execute_result"
    }
   ],
   "source": [
    "model_KNN = KNN(n_neighbors = 150,p=2)\n",
    "model_KNN.fit(X_train_new,y_train)"
   ]
  },
  {
   "cell_type": "code",
   "execution_count": 86,
   "metadata": {},
   "outputs": [
    {
     "data": {
      "text/plain": [
       "0.32550000000000001"
      ]
     },
     "execution_count": 86,
     "metadata": {},
     "output_type": "execute_result"
    }
   ],
   "source": [
    "model_KNN.score(X_test_new,y_test)"
   ]
  },
  {
   "cell_type": "raw",
   "metadata": {},
   "source": [
    "Ok, So previously we calculated the model accuracy on a smaller dataset (only 4000 out of 10000) due to hungry computation times plus accuracy was anyhow going to be less(on the entire test data) than what was computed on smaller dataset. \n",
    "\n",
    "However after applying dimension reduction using Principle Component Analysis (PCA) which ultimately squeezed our 3000 dimensional data to merely a 10 dimensional data (with a big loss in information of course but reducing the running time now to a large extent), and also after hell lot of hyperparameter tuning, we could at least maintain the accuaracy of 0.32 over the \"entire\" dataset (if not increase it... ) which was otherwise not possible without dimension reductionality tweaks due to some obvious KNN mathematical proofs. "
   ]
  },
  {
   "cell_type": "raw",
   "metadata": {},
   "source": [
    "Moving on to SVMs.......  (phew)"
   ]
  }
 ],
 "metadata": {
  "kernelspec": {
   "display_name": "Python 3",
   "language": "python",
   "name": "python3"
  },
  "language_info": {
   "codemirror_mode": {
    "name": "ipython",
    "version": 3
   },
   "file_extension": ".py",
   "mimetype": "text/x-python",
   "name": "python",
   "nbconvert_exporter": "python",
   "pygments_lexer": "ipython3",
   "version": "3.6.3"
  }
 },
 "nbformat": 4,
 "nbformat_minor": 2
}
