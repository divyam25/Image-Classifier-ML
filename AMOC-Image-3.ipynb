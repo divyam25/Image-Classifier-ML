{
 "cells": [
  {
   "cell_type": "code",
   "execution_count": 2,
   "metadata": {
    "collapsed": true
   },
   "outputs": [],
   "source": [
    "import numpy\n",
    "from keras.datasets import cifar10\n",
    "from keras.models import Sequential\n",
    "from keras.layers import Dense\n",
    "from keras.layers import Dropout\n",
    "from keras.layers import Flatten\n",
    "from keras.constraints import maxnorm\n",
    "from keras.optimizers import SGD\n",
    "from keras.layers.convolutional import Conv2D\n",
    "from keras.layers.convolutional import MaxPooling2D\n",
    "from keras.utils import np_utils\n",
    "from keras import backend as K\n",
    "K.set_image_dim_ordering('th')"
   ]
  },
  {
   "cell_type": "code",
   "execution_count": 3,
   "metadata": {
    "collapsed": true
   },
   "outputs": [],
   "source": [
    "seed = 7\n",
    "numpy.random.seed(seed)"
   ]
  },
  {
   "cell_type": "code",
   "execution_count": 4,
   "metadata": {},
   "outputs": [
    {
     "name": "stdout",
     "output_type": "stream",
     "text": [
      "Downloading data from https://www.cs.toronto.edu/~kriz/cifar-10-python.tar.gz\n",
      "170500096/170498071 [==============================] - 975s 6us/step\n"
     ]
    }
   ],
   "source": [
    "(X_train, y_train), (X_test, y_test) = cifar10.load_data()"
   ]
  },
  {
   "cell_type": "code",
   "execution_count": 7,
   "metadata": {},
   "outputs": [
    {
     "data": {
      "text/plain": [
       "(50000, 3, 32, 32)"
      ]
     },
     "execution_count": 7,
     "metadata": {},
     "output_type": "execute_result"
    }
   ],
   "source": [
    "X_train.shape"
   ]
  },
  {
   "cell_type": "code",
   "execution_count": 8,
   "metadata": {
    "collapsed": true
   },
   "outputs": [],
   "source": [
    "# normalize inputs from 0-255 to 0.0-1.0\n",
    "X_train = X_train.astype('float32')\n",
    "X_test = X_test.astype('float32')\n",
    "X_train = X_train / 255.0\n",
    "X_test = X_test / 255.0"
   ]
  },
  {
   "cell_type": "code",
   "execution_count": 10,
   "metadata": {
    "collapsed": true
   },
   "outputs": [],
   "source": [
    "# one hot encode\n",
    "y_train = np_utils.to_categorical(y_train)\n",
    "y_test = np_utils.to_categorical(y_test)\n",
    "num_classes = y_test.shape[1]"
   ]
  },
  {
   "cell_type": "code",
   "execution_count": 11,
   "metadata": {},
   "outputs": [
    {
     "data": {
      "text/plain": [
       "array([[0., 0., 0., ..., 0., 0., 0.],\n",
       "       [0., 0., 0., ..., 0., 1., 0.],\n",
       "       [0., 0., 0., ..., 0., 1., 0.],\n",
       "       ...,\n",
       "       [0., 0., 0., ..., 0., 0., 0.],\n",
       "       [0., 1., 0., ..., 0., 0., 0.],\n",
       "       [0., 0., 0., ..., 1., 0., 0.]])"
      ]
     },
     "execution_count": 11,
     "metadata": {},
     "output_type": "execute_result"
    }
   ],
   "source": [
    "y_test"
   ]
  },
  {
   "cell_type": "code",
   "execution_count": 18,
   "metadata": {},
   "outputs": [
    {
     "name": "stdout",
     "output_type": "stream",
     "text": [
      "_________________________________________________________________\n",
      "Layer (type)                 Output Shape              Param #   \n",
      "=================================================================\n",
      "conv2d_13 (Conv2D)           (None, 32, 30, 30)        896       \n",
      "_________________________________________________________________\n",
      "dropout_11 (Dropout)         (None, 32, 30, 30)        0         \n",
      "_________________________________________________________________\n",
      "conv2d_14 (Conv2D)           (None, 32, 28, 28)        9248      \n",
      "_________________________________________________________________\n",
      "max_pooling2d_7 (MaxPooling2 (None, 32, 14, 14)        0         \n",
      "_________________________________________________________________\n",
      "conv2d_15 (Conv2D)           (None, 32, 12, 12)        9248      \n",
      "_________________________________________________________________\n",
      "dropout_12 (Dropout)         (None, 32, 12, 12)        0         \n",
      "_________________________________________________________________\n",
      "conv2d_16 (Conv2D)           (None, 32, 10, 10)        9248      \n",
      "_________________________________________________________________\n",
      "max_pooling2d_8 (MaxPooling2 (None, 32, 5, 5)          0         \n",
      "_________________________________________________________________\n",
      "flatten_5 (Flatten)          (None, 800)               0         \n",
      "_________________________________________________________________\n",
      "dense_9 (Dense)              (None, 300)               240300    \n",
      "_________________________________________________________________\n",
      "dropout_13 (Dropout)         (None, 300)               0         \n",
      "_________________________________________________________________\n",
      "dense_10 (Dense)             (None, 10)                3010      \n",
      "=================================================================\n",
      "Total params: 271,950\n",
      "Trainable params: 271,950\n",
      "Non-trainable params: 0\n",
      "_________________________________________________________________\n",
      "None\n"
     ]
    }
   ],
   "source": [
    "model = Sequential()\n",
    "model.add(Conv2D(32, (3, 3), input_shape=(3, 32, 32), padding='valid', activation='relu'))\n",
    "model.add(Dropout(0.2))\n",
    "model.add(Conv2D(32, (3, 3), activation='relu', padding='valid'))\n",
    "model.add(MaxPooling2D(pool_size=(2, 2)))\n",
    "model.add(Conv2D(32, (3, 3), activation='relu', padding='valid'))\n",
    "model.add(Dropout(0.1))\n",
    "model.add(Conv2D(32, (3, 3), activation='relu', padding='valid'))\n",
    "model.add(MaxPooling2D(pool_size=(2, 2)))\n",
    "model.add(Flatten())\n",
    "model.add(Dense(300, activation='relu'))\n",
    "model.add(Dropout(0.5))\n",
    "model.add(Dense(num_classes, activation='softmax'))\n",
    "# Compile model\n",
    "epochs = 25\n",
    "lrate = 0.01\n",
    "decay = lrate/epochs\n",
    "sgd = SGD(lr=lrate, momentum=0.9, decay=decay, nesterov=False)\n",
    "model.compile(loss='categorical_crossentropy', optimizer=sgd, metrics=['accuracy'])\n",
    "print(model.summary())"
   ]
  },
  {
   "cell_type": "code",
   "execution_count": 19,
   "metadata": {},
   "outputs": [
    {
     "name": "stdout",
     "output_type": "stream",
     "text": [
      "Train on 50000 samples, validate on 10000 samples\n",
      "Epoch 1/25\n",
      "50000/50000 [==============================] - 46s 921us/step - loss: 2.0137 - acc: 0.2585 - val_loss: 1.7435 - val_acc: 0.3793\n",
      "Epoch 2/25\n",
      "50000/50000 [==============================] - 46s 925us/step - loss: 1.6717 - acc: 0.3905 - val_loss: 1.5393 - val_acc: 0.4624\n",
      "Epoch 3/25\n",
      "50000/50000 [==============================] - 45s 903us/step - loss: 1.4802 - acc: 0.4636 - val_loss: 1.3821 - val_acc: 0.5066\n",
      "Epoch 4/25\n",
      "50000/50000 [==============================] - 46s 914us/step - loss: 1.3769 - acc: 0.5051 - val_loss: 1.2720 - val_acc: 0.5408\n",
      "Epoch 5/25\n",
      "50000/50000 [==============================] - 46s 911us/step - loss: 1.3035 - acc: 0.5328 - val_loss: 1.2170 - val_acc: 0.5653\n",
      "Epoch 6/25\n",
      "50000/50000 [==============================] - 44s 883us/step - loss: 1.2438 - acc: 0.5586 - val_loss: 1.1574 - val_acc: 0.5924\n",
      "Epoch 7/25\n",
      "50000/50000 [==============================] - 45s 894us/step - loss: 1.1867 - acc: 0.5792 - val_loss: 1.1154 - val_acc: 0.6088\n",
      "Epoch 8/25\n",
      "50000/50000 [==============================] - 44s 885us/step - loss: 1.1467 - acc: 0.5927 - val_loss: 1.0745 - val_acc: 0.6217\n",
      "Epoch 9/25\n",
      "50000/50000 [==============================] - 45s 894us/step - loss: 1.1022 - acc: 0.6089 - val_loss: 1.0366 - val_acc: 0.6369\n",
      "Epoch 10/25\n",
      "50000/50000 [==============================] - 44s 876us/step - loss: 1.0683 - acc: 0.6213 - val_loss: 1.0254 - val_acc: 0.6389\n",
      "Epoch 11/25\n",
      "50000/50000 [==============================] - 44s 884us/step - loss: 1.0404 - acc: 0.6320 - val_loss: 0.9980 - val_acc: 0.6515\n",
      "Epoch 12/25\n",
      "50000/50000 [==============================] - 47s 949us/step - loss: 1.0154 - acc: 0.6430 - val_loss: 0.9757 - val_acc: 0.6556\n",
      "Epoch 13/25\n",
      "50000/50000 [==============================] - 46s 925us/step - loss: 0.9897 - acc: 0.6517 - val_loss: 0.9594 - val_acc: 0.6641\n",
      "Epoch 14/25\n",
      "50000/50000 [==============================] - 51s 1ms/step - loss: 0.9699 - acc: 0.6589 - val_loss: 0.9167 - val_acc: 0.6778\n",
      "Epoch 15/25\n",
      "50000/50000 [==============================] - 48s 955us/step - loss: 0.9467 - acc: 0.6661 - val_loss: 0.9367 - val_acc: 0.6709\n",
      "Epoch 16/25\n",
      "50000/50000 [==============================] - 49s 970us/step - loss: 0.9330 - acc: 0.6694 - val_loss: 0.8932 - val_acc: 0.6881\n",
      "Epoch 17/25\n",
      "50000/50000 [==============================] - 50s 1ms/step - loss: 0.9131 - acc: 0.6770 - val_loss: 0.9098 - val_acc: 0.6814\n",
      "Epoch 18/25\n",
      "50000/50000 [==============================] - 44s 874us/step - loss: 0.8978 - acc: 0.6859 - val_loss: 0.8717 - val_acc: 0.6960\n",
      "Epoch 19/25\n",
      "50000/50000 [==============================] - 42s 834us/step - loss: 0.8865 - acc: 0.6868 - val_loss: 0.8831 - val_acc: 0.6885\n",
      "Epoch 20/25\n",
      "50000/50000 [==============================] - 42s 842us/step - loss: 0.8699 - acc: 0.6921 - val_loss: 0.8610 - val_acc: 0.6963\n",
      "Epoch 21/25\n",
      "50000/50000 [==============================] - 43s 867us/step - loss: 0.8494 - acc: 0.7011 - val_loss: 0.8766 - val_acc: 0.6967\n",
      "Epoch 22/25\n",
      "50000/50000 [==============================] - 43s 853us/step - loss: 0.8462 - acc: 0.7011 - val_loss: 0.8426 - val_acc: 0.7065\n",
      "Epoch 23/25\n",
      "50000/50000 [==============================] - 42s 844us/step - loss: 0.8374 - acc: 0.7053 - val_loss: 0.8337 - val_acc: 0.7079\n",
      "Epoch 24/25\n",
      "50000/50000 [==============================] - 42s 846us/step - loss: 0.8255 - acc: 0.7073 - val_loss: 0.8349 - val_acc: 0.7098\n",
      "Epoch 25/25\n",
      "50000/50000 [==============================] - 42s 842us/step - loss: 0.8179 - acc: 0.7101 - val_loss: 0.8456 - val_acc: 0.7069\n"
     ]
    },
    {
     "data": {
      "text/plain": [
       "<keras.callbacks.History at 0x28ad31d1780>"
      ]
     },
     "execution_count": 19,
     "metadata": {},
     "output_type": "execute_result"
    }
   ],
   "source": [
    "model.fit(X_train, y_train, validation_data=(X_test, y_test), epochs=epochs, batch_size=100)"
   ]
  },
  {
   "cell_type": "code",
   "execution_count": 20,
   "metadata": {},
   "outputs": [
    {
     "name": "stdout",
     "output_type": "stream",
     "text": [
      "Accuracy: 70.69%\n"
     ]
    }
   ],
   "source": [
    "scores = model.evaluate(X_test, y_test, verbose=0)\n",
    "print(\"Accuracy: %.2f%%\" % (scores[1]*100))"
   ]
  },
  {
   "cell_type": "code",
   "execution_count": null,
   "metadata": {
    "collapsed": true
   },
   "outputs": [],
   "source": []
  }
 ],
 "metadata": {
  "kernelspec": {
   "display_name": "Python 3",
   "language": "python",
   "name": "python3"
  },
  "language_info": {
   "codemirror_mode": {
    "name": "ipython",
    "version": 3
   },
   "file_extension": ".py",
   "mimetype": "text/x-python",
   "name": "python",
   "nbconvert_exporter": "python",
   "pygments_lexer": "ipython3",
   "version": "3.6.3"
  }
 },
 "nbformat": 4,
 "nbformat_minor": 2
}
