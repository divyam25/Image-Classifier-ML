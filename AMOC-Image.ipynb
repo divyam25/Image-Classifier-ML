{
 "cells": [
  {
   "cell_type": "code",
   "execution_count": 1,
   "metadata": {
    "collapsed": true
   },
   "outputs": [],
   "source": [
    "from sklearn.linear_model import LogisticRegression as LR\n",
    "from skimage import io\n",
    "import numpy as np\n",
    "import pandas as pd\n",
    "import os"
   ]
  },
  {
   "cell_type": "code",
   "execution_count": null,
   "metadata": {
    "collapsed": true,
    "scrolled": false
   },
   "outputs": [],
   "source": [
    "path1 ='C:\\\\Users\\\\Dell\\\\Downloads'     #discovering the essential needs for this project\n",
    "a=np.empty([0,250000])\n",
    "a=np.append(a,pd.DataFrame(np.mean(io.imread(os.path.join(path1,'1yviza.jpg')),axis=2).flatten()).as_matrix().T,axis=0)\n",
    "a=np.append(a,pd.DataFrame(np.mean(io.imread(os.path.join(path1,'1yviza.jpg')),axis=2).flatten()).as_matrix().T,axis=0)\n",
    "a.shape\n"
   ]
  },
  {
   "cell_type": "code",
   "execution_count": null,
   "metadata": {
    "collapsed": true
   },
   "outputs": [],
   "source": [
    "path = 'D:\\\\NIT files\\\\CIFAR-10\\\\train'  #discovering essentials\n",
    "i=\n",
    "np.mean(io.imread(os.path.join(path,str(i) + '.png')),axis=2).shape"
   ]
  },
  {
   "cell_type": "code",
   "execution_count": null,
   "metadata": {},
   "outputs": [],
   "source": [
    "path_data = 'E:\\\\CIFAR-10\\\\train'    #importing Training data\n",
    "X_train = np.zeros((50000,1024))\n",
    "for i in range(1,50001) :\n",
    "    X_train[i-1]=pd.DataFrame(np.mean(io.imread(os.path.join(path_data,str(i) + '.png')),axis=2).flatten()).as_matrix().T\n",
    "    print (i)\n",
    "    "
   ]
  },
  {
   "cell_type": "code",
   "execution_count": 5,
   "metadata": {},
   "outputs": [
    {
     "data": {
      "text/plain": [
       "(50000, 1024)"
      ]
     },
     "execution_count": 5,
     "metadata": {},
     "output_type": "execute_result"
    }
   ],
   "source": [
    "X_train.shape"
   ]
  },
  {
   "cell_type": "code",
   "execution_count": 3,
   "metadata": {
    "collapsed": true
   },
   "outputs": [],
   "source": [
    "Y_train = pd.DataFrame.from_csv(\"E:\\\\CIFAR-10\\\\trainLabels.csv\")     #importing Training labels\n",
    "Y_train = Y_train.label.as_matrix()\n"
   ]
  },
  {
   "cell_type": "code",
   "execution_count": 9,
   "metadata": {
    "collapsed": true
   },
   "outputs": [],
   "source": [
    "model = LR().fit(X_train,Y_train)"
   ]
  },
  {
   "cell_type": "code",
   "execution_count": null,
   "metadata": {},
   "outputs": [],
   "source": [
    "path1_data = 'E:\\\\CIFAR-10\\\\test'    #importing Training data\n",
    "X_test = np.zeros((1000,1024))\n",
    "for i in range(1,1001) :\n",
    "    X_test[i-1]=pd.DataFrame(np.mean(io.imread(os.path.join(path1_data,str(i) + '.png')),axis=2).flatten()).as_matrix().T\n",
    "    print (i)"
   ]
  },
  {
   "cell_type": "code",
   "execution_count": 7,
   "metadata": {},
   "outputs": [
    {
     "data": {
      "text/plain": [
       "(10, 1024)"
      ]
     },
     "execution_count": 7,
     "metadata": {},
     "output_type": "execute_result"
    }
   ],
   "source": [
    "X_test.shape"
   ]
  },
  {
   "cell_type": "code",
   "execution_count": 20,
   "metadata": {},
   "outputs": [
    {
     "data": {
      "text/plain": [
       "array(['bird', 'bird', 'frog', 'airplane', 'airplane', 'deer', 'deer',\n",
       "       'truck', 'cat', 'ship', 'ship', 'automobile', 'deer', 'airplane',\n",
       "       'dog', 'airplane', 'ship', 'horse', 'cat', 'ship', 'bird',\n",
       "       'airplane', 'airplane', 'cat', 'ship', 'truck', 'automobile', 'cat',\n",
       "       'cat', 'dog', 'airplane', 'horse', 'dog', 'ship', 'deer',\n",
       "       'automobile', 'deer', 'dog', 'airplane', 'dog', 'horse', 'deer',\n",
       "       'truck', 'dog', 'truck', 'truck', 'frog', 'automobile', 'airplane',\n",
       "       'automobile', 'airplane', 'bird', 'cat', 'truck', 'airplane',\n",
       "       'truck', 'deer', 'truck', 'dog', 'cat', 'bird', 'automobile',\n",
       "       'frog', 'automobile', 'ship', 'horse', 'ship', 'cat', 'bird',\n",
       "       'deer', 'truck', 'horse', 'ship', 'cat', 'frog', 'ship', 'bird',\n",
       "       'cat', 'cat', 'truck', 'dog', 'dog', 'ship', 'cat', 'bird', 'ship',\n",
       "       'ship', 'airplane', 'deer', 'airplane', 'airplane', 'airplane',\n",
       "       'bird', 'cat', 'automobile', 'frog', 'cat', 'airplane', 'truck',\n",
       "       'frog', 'bird', 'airplane', 'dog', 'frog', 'ship', 'dog',\n",
       "       'automobile', 'deer', 'bird', 'cat', 'horse', 'ship', 'airplane',\n",
       "       'airplane', 'automobile', 'bird', 'horse', 'deer', 'cat', 'cat',\n",
       "       'automobile', 'truck', 'cat', 'cat', 'automobile', 'truck',\n",
       "       'airplane', 'dog', 'deer', 'dog', 'ship', 'horse', 'bird',\n",
       "       'automobile', 'frog', 'airplane', 'frog', 'airplane', 'dog',\n",
       "       'automobile', 'bird', 'frog', 'horse', 'horse', 'ship',\n",
       "       'automobile', 'automobile', 'dog', 'bird', 'frog', 'horse', 'frog',\n",
       "       'dog', 'ship', 'truck', 'cat', 'horse', 'ship', 'automobile',\n",
       "       'ship', 'dog', 'frog', 'ship', 'dog', 'dog', 'horse', 'frog',\n",
       "       'frog', 'bird', 'dog', 'horse', 'automobile', 'dog', 'deer', 'dog',\n",
       "       'ship', 'dog', 'deer', 'horse', 'frog', 'cat', 'truck', 'frog',\n",
       "       'deer', 'ship', 'deer', 'ship', 'deer', 'automobile', 'airplane',\n",
       "       'deer', 'airplane', 'horse', 'airplane', 'ship', 'deer', 'bird',\n",
       "       'cat', 'automobile', 'horse', 'cat', 'deer', 'horse', 'airplane',\n",
       "       'bird', 'bird', 'cat', 'bird', 'cat', 'horse', 'truck', 'ship',\n",
       "       'ship', 'deer', 'cat', 'cat', 'dog', 'ship', 'cat', 'cat', 'bird',\n",
       "       'frog', 'dog', 'cat', 'horse', 'deer', 'horse', 'airplane',\n",
       "       'airplane', 'horse', 'dog', 'deer', 'cat', 'ship', 'automobile',\n",
       "       'truck', 'deer', 'truck', 'deer', 'deer', 'dog', 'deer', 'ship',\n",
       "       'bird', 'dog', 'cat', 'frog', 'deer', 'bird', 'ship', 'dog', 'dog',\n",
       "       'deer', 'ship', 'deer', 'ship', 'cat', 'ship', 'horse',\n",
       "       'automobile', 'ship', 'ship', 'truck', 'deer', 'frog', 'frog',\n",
       "       'automobile', 'airplane', 'bird', 'frog', 'deer', 'ship', 'frog',\n",
       "       'ship', 'horse', 'cat', 'cat', 'truck', 'deer', 'ship', 'ship',\n",
       "       'airplane', 'dog', 'cat', 'cat', 'automobile', 'ship', 'truck',\n",
       "       'bird', 'automobile', 'airplane', 'bird', 'airplane', 'airplane',\n",
       "       'truck', 'truck', 'frog', 'cat', 'ship', 'truck', 'horse',\n",
       "       'automobile', 'truck', 'cat', 'dog', 'frog', 'ship', 'bird', 'ship',\n",
       "       'horse', 'automobile', 'frog', 'dog', 'horse', 'bird', 'dog', 'dog',\n",
       "       'deer', 'truck', 'truck', 'deer', 'bird', 'dog', 'dog', 'cat',\n",
       "       'cat', 'horse', 'dog', 'cat', 'truck', 'dog', 'automobile',\n",
       "       'airplane', 'frog', 'bird', 'cat', 'deer', 'automobile', 'dog',\n",
       "       'dog', 'truck', 'frog', 'cat', 'bird', 'dog', 'automobile', 'cat',\n",
       "       'frog', 'deer', 'truck', 'ship', 'automobile', 'horse', 'cat',\n",
       "       'ship', 'dog', 'cat', 'truck', 'bird', 'deer', 'dog', 'airplane',\n",
       "       'horse', 'cat', 'ship', 'deer', 'airplane', 'bird', 'ship', 'bird',\n",
       "       'ship', 'ship', 'ship', 'horse', 'truck', 'airplane', 'horse',\n",
       "       'automobile', 'automobile', 'ship', 'ship', 'horse', 'horse',\n",
       "       'ship', 'horse', 'frog', 'ship', 'automobile', 'dog', 'cat',\n",
       "       'airplane', 'cat', 'deer', 'frog', 'dog', 'dog', 'frog', 'deer',\n",
       "       'horse', 'ship', 'frog', 'cat', 'airplane', 'truck', 'dog', 'deer',\n",
       "       'automobile', 'truck', 'bird', 'automobile', 'horse', 'deer',\n",
       "       'frog', 'airplane', 'automobile', 'cat', 'automobile', 'cat',\n",
       "       'frog', 'cat', 'airplane', 'deer', 'cat', 'horse', 'bird', 'cat',\n",
       "       'automobile', 'frog', 'cat', 'deer', 'frog', 'truck', 'horse',\n",
       "       'horse', 'truck', 'horse', 'automobile', 'truck', 'automobile',\n",
       "       'automobile', 'horse', 'cat', 'frog', 'cat', 'automobile', 'dog',\n",
       "       'horse', 'airplane', 'deer', 'airplane', 'cat', 'ship', 'deer',\n",
       "       'ship', 'ship', 'bird', 'dog', 'cat', 'airplane', 'automobile',\n",
       "       'automobile', 'automobile', 'cat', 'dog', 'cat', 'frog', 'airplane',\n",
       "       'horse', 'horse', 'dog', 'deer', 'ship', 'cat', 'airplane', 'cat',\n",
       "       'airplane', 'deer', 'dog', 'truck', 'truck', 'ship', 'automobile',\n",
       "       'cat', 'ship', 'bird', 'bird', 'dog', 'truck', 'dog', 'cat',\n",
       "       'truck', 'dog', 'frog', 'cat', 'airplane', 'horse', 'frog',\n",
       "       'automobile', 'cat', 'automobile', 'deer', 'dog', 'airplane',\n",
       "       'automobile', 'bird', 'ship', 'cat', 'frog', 'bird', 'airplane',\n",
       "       'dog', 'ship', 'truck', 'ship', 'frog', 'truck', 'truck', 'truck',\n",
       "       'truck', 'frog', 'deer', 'dog', 'bird', 'ship', 'dog', 'bird',\n",
       "       'bird', 'cat', 'automobile', 'cat', 'frog', 'automobile', 'bird',\n",
       "       'deer', 'truck', 'deer', 'horse', 'automobile', 'truck', 'truck',\n",
       "       'truck', 'cat', 'ship', 'airplane', 'airplane', 'airplane', 'cat',\n",
       "       'cat', 'cat', 'horse', 'dog', 'airplane', 'horse', 'deer', 'cat',\n",
       "       'airplane', 'dog', 'airplane', 'dog', 'deer', 'frog', 'automobile',\n",
       "       'horse', 'ship', 'dog', 'bird', 'cat', 'deer', 'frog', 'horse',\n",
       "       'bird', 'dog', 'deer', 'ship', 'airplane', 'truck', 'frog', 'horse',\n",
       "       'ship', 'truck', 'automobile', 'bird', 'horse', 'truck', 'airplane',\n",
       "       'ship', 'truck', 'truck', 'dog', 'dog', 'truck', 'dog', 'ship',\n",
       "       'truck', 'frog', 'automobile', 'airplane', 'truck', 'cat', 'bird',\n",
       "       'airplane', 'airplane', 'ship', 'dog', 'ship', 'dog', 'bird', 'cat',\n",
       "       'bird', 'truck', 'deer', 'bird', 'automobile', 'airplane', 'deer',\n",
       "       'bird', 'airplane', 'horse', 'dog', 'bird', 'frog', 'cat', 'cat',\n",
       "       'horse', 'bird', 'deer', 'ship', 'automobile', 'bird', 'automobile',\n",
       "       'ship', 'dog', 'airplane', 'horse', 'horse', 'automobile', 'dog',\n",
       "       'automobile', 'airplane', 'bird', 'horse', 'frog', 'ship', 'cat',\n",
       "       'cat', 'ship', 'ship', 'bird', 'frog', 'ship', 'ship', 'truck',\n",
       "       'cat', 'ship', 'cat', 'cat', 'deer', 'airplane', 'bird',\n",
       "       'automobile', 'deer', 'airplane', 'cat', 'horse', 'automobile',\n",
       "       'bird', 'airplane', 'bird', 'horse', 'frog', 'bird', 'cat',\n",
       "       'airplane', 'deer', 'truck', 'bird', 'airplane', 'automobile',\n",
       "       'horse', 'deer', 'cat', 'dog', 'horse', 'deer', 'dog', 'dog', 'dog',\n",
       "       'frog', 'deer', 'deer', 'cat', 'ship', 'bird', 'bird', 'horse',\n",
       "       'frog', 'cat', 'cat', 'cat', 'horse', 'horse', 'deer', 'truck',\n",
       "       'airplane', 'airplane', 'dog', 'cat', 'bird', 'deer', 'airplane',\n",
       "       'dog', 'dog', 'cat', 'airplane', 'cat', 'ship', 'airplane',\n",
       "       'automobile', 'deer', 'frog', 'airplane', 'cat', 'cat', 'dog',\n",
       "       'horse', 'airplane', 'dog', 'deer', 'airplane', 'airplane', 'truck',\n",
       "       'cat', 'dog', 'cat', 'truck', 'truck', 'deer', 'cat', 'automobile',\n",
       "       'truck', 'deer', 'dog', 'horse', 'cat', 'ship', 'bird', 'deer',\n",
       "       'ship', 'cat', 'ship', 'bird', 'airplane', 'cat', 'truck', 'ship',\n",
       "       'truck', 'airplane', 'cat', 'airplane', 'ship', 'automobile',\n",
       "       'deer', 'cat', 'dog', 'truck', 'ship', 'cat', 'cat', 'deer', 'cat',\n",
       "       'frog', 'frog', 'frog', 'dog', 'cat', 'airplane', 'cat', 'deer',\n",
       "       'bird', 'horse', 'truck', 'dog', 'automobile', 'ship', 'dog',\n",
       "       'airplane', 'bird', 'cat', 'horse', 'truck', 'dog', 'ship', 'frog',\n",
       "       'deer', 'ship', 'truck', 'bird', 'frog', 'ship', 'ship',\n",
       "       'automobile', 'horse', 'cat', 'cat', 'airplane', 'deer', 'deer',\n",
       "       'deer', 'deer', 'ship', 'truck', 'horse', 'frog', 'cat', 'bird',\n",
       "       'dog', 'cat', 'bird', 'dog', 'bird', 'dog', 'automobile', 'cat',\n",
       "       'deer', 'dog', 'airplane', 'dog', 'ship', 'cat', 'horse', 'frog',\n",
       "       'deer', 'frog', 'ship', 'cat', 'deer', 'airplane', 'frog', 'dog',\n",
       "       'cat', 'cat', 'airplane', 'dog', 'automobile', 'deer', 'cat', 'cat',\n",
       "       'truck', 'horse', 'automobile', 'cat', 'dog', 'deer', 'airplane',\n",
       "       'airplane', 'dog', 'ship', 'cat', 'dog', 'cat', 'automobile',\n",
       "       'ship', 'airplane', 'airplane', 'ship', 'horse', 'cat', 'deer',\n",
       "       'airplane', 'automobile', 'ship', 'bird', 'automobile', 'horse',\n",
       "       'automobile', 'dog', 'cat', 'automobile', 'automobile', 'ship',\n",
       "       'truck', 'ship', 'dog', 'truck', 'deer', 'ship', 'bird', 'ship',\n",
       "       'deer', 'airplane', 'airplane', 'truck', 'ship', 'ship', 'truck',\n",
       "       'ship', 'airplane', 'airplane', 'dog', 'cat', 'dog', 'automobile',\n",
       "       'horse', 'truck', 'deer', 'bird', 'bird', 'ship', 'cat', 'ship',\n",
       "       'cat', 'horse', 'deer', 'deer', 'automobile', 'ship', 'horse',\n",
       "       'deer', 'cat', 'frog', 'cat', 'bird', 'airplane', 'automobile',\n",
       "       'ship', 'truck', 'automobile', 'cat', 'automobile', 'truck', 'deer',\n",
       "       'bird', 'dog', 'ship', 'dog', 'truck', 'ship', 'cat', 'automobile',\n",
       "       'deer', 'horse', 'cat', 'truck', 'deer', 'horse', 'horse', 'cat',\n",
       "       'ship', 'horse', 'cat', 'cat', 'cat', 'dog', 'cat', 'truck',\n",
       "       'horse', 'cat', 'deer', 'frog', 'cat', 'ship', 'automobile', 'ship',\n",
       "       'dog', 'airplane', 'dog', 'deer', 'dog', 'ship', 'automobile',\n",
       "       'dog', 'automobile', 'airplane', 'cat', 'truck', 'dog', 'bird',\n",
       "       'automobile', 'truck', 'airplane', 'cat', 'cat', 'ship', 'ship',\n",
       "       'horse', 'truck', 'dog', 'cat', 'truck', 'frog', 'automobile',\n",
       "       'truck', 'cat', 'ship', 'airplane', 'airplane', 'automobile',\n",
       "       'ship', 'cat', 'horse'], dtype=object)"
      ]
     },
     "execution_count": 20,
     "metadata": {},
     "output_type": "execute_result"
    }
   ],
   "source": [
    "model.predict(X_test)"
   ]
  },
  {
   "cell_type": "code",
   "execution_count": 19,
   "metadata": {},
   "outputs": [
    {
     "data": {
      "text/plain": [
       "array([[ 109.33333333,  120.66666667,  121.66666667, ...,  110.33333333,\n",
       "          86.66666667,   65.        ],\n",
       "       [ 150.        ,  146.66666667,  155.        , ...,  169.33333333,\n",
       "         172.        ,  137.        ],\n",
       "       [ 242.33333333,  243.33333333,  231.66666667, ...,  184.66666667,\n",
       "         179.        ,  179.33333333],\n",
       "       ..., \n",
       "       [ 179.66666667,  184.66666667,  190.        , ...,   52.66666667,\n",
       "          45.66666667,   43.        ],\n",
       "       [ 235.33333333,  233.        ,  234.        , ...,  123.        ,\n",
       "         119.33333333,  118.33333333],\n",
       "       [ 254.        ,  250.        ,  251.        , ...,   48.33333333,\n",
       "          54.        ,   69.66666667]])"
      ]
     },
     "execution_count": 19,
     "metadata": {},
     "output_type": "execute_result"
    }
   ],
   "source": [
    "X_test"
   ]
  },
  {
   "cell_type": "code",
   "execution_count": null,
   "metadata": {
    "collapsed": true
   },
   "outputs": [],
   "source": []
  }
 ],
 "metadata": {
  "kernelspec": {
   "display_name": "Python 3",
   "language": "python",
   "name": "python3"
  },
  "language_info": {
   "codemirror_mode": {
    "name": "ipython",
    "version": 3
   },
   "file_extension": ".py",
   "mimetype": "text/x-python",
   "name": "python",
   "nbconvert_exporter": "python",
   "pygments_lexer": "ipython3",
   "version": "3.6.3"
  }
 },
 "nbformat": 4,
 "nbformat_minor": 2
}
